{
  "nbformat": 4,
  "nbformat_minor": 0,
  "metadata": {
    "colab": {
      "provenance": []
    },
    "kernelspec": {
      "name": "python3",
      "display_name": "Python 3"
    },
    "language_info": {
      "name": "python"
    }
  },
  "cells": [
    {
      "cell_type": "code",
      "execution_count": null,
      "metadata": {
        "colab": {
          "base_uri": "https://localhost:8080/"
        },
        "id": "_KCPp_qlMa_q",
        "outputId": "6e930a45-4018-4342-b8fc-4a4d0723baeb"
      },
      "outputs": [
        {
          "output_type": "stream",
          "name": "stdout",
          "text": [
            "Mounted at /content/drive\n"
          ]
        }
      ],
      "source": [
        "from google.colab import drive\n",
        "drive.mount('/content/drive')"
      ]
    },
    {
      "cell_type": "code",
      "source": [
        "!ls \"/content/drive/My Drive/Datasets\""
      ],
      "metadata": {
        "colab": {
          "base_uri": "https://localhost:8080/"
        },
        "id": "eUkN32b9Mwq7",
        "outputId": "8d7ce161-dee6-42eb-f0a2-b1d8abbeb9d2"
      },
      "execution_count": null,
      "outputs": [
        {
          "output_type": "stream",
          "name": "stdout",
          "text": [
            "heart.csv\n"
          ]
        }
      ]
    },
    {
      "cell_type": "code",
      "source": [
        "%cd /content/drive/My\\ Drive/Datasets"
      ],
      "metadata": {
        "colab": {
          "base_uri": "https://localhost:8080/"
        },
        "id": "djYNdC02MyUV",
        "outputId": "7bb211cb-4f5c-4036-a945-31dc5eed5799"
      },
      "execution_count": null,
      "outputs": [
        {
          "output_type": "stream",
          "name": "stdout",
          "text": [
            "/content/drive/My Drive/Datasets\n"
          ]
        }
      ]
    },
    {
      "cell_type": "code",
      "source": [
        "import pandas as pd\n",
        "import numpy as np\n",
        "from sklearn.linear_model import LogisticRegression\n",
        "\n",
        "# Load COVID-19 dataset\n",
        "covid_df = pd.read_csv('https://ai2-semanticscholar-cord-19.s3-us-west-2.amazonaws.com/latest/metadata.csv')\n",
        "\n",
        "# Prepare data for modeling\n",
        "underlying_health_conditions = ['cardiovascular diseases', 'diabetes', 'chronic respiratory diseases', 'cancer'] # Select relevant features\n",
        "covid_df['has_health_condition'] = np.where(covid_df['abstract'].str.contains('|'.join(underlying_health_conditions), case=False), 1, 0)\n",
        "covid_df['covid_status'] = np.where(covid_df['abstract'].str.contains('COVID-19|SARS-CoV-2', case=False), 1, 0)\n",
        "X = covid_df[['has_health_condition']]\n",
        "y = covid_df['covid_status'] # Binary classification target variable (1 = more susceptible, 0 = less susceptible)\n",
        "\n",
        "# Train logistic regression model\n",
        "lr_model = LogisticRegression(random_state=42)\n",
        "lr_model.fit(X, y)\n",
        "\n",
        "# Take input from user\n",
        "print('Please answer the following questions to determine your risk of COVID-19:\\n')\n",
        "has_cardiovascular_disease = input('Do you have cardiovascular disease? (y/n): ').lower() == 'y'\n",
        "has_diabetes = input('Do you have diabetes? (y/n): ').lower() == 'y'\n",
        "has_chronic_respiratory_disease = input('Do you have chronic respiratory disease? (y/n): ').lower() == 'y'\n",
        "has_cancer = input('Do you have cancer? (y/n): ').lower() == 'y'\n",
        "\n",
        "# Prepare user data for prediction\n",
        "has_health_condition = int(has_cardiovascular_disease or has_diabetes or has_chronic_respiratory_disease or has_cancer)\n",
        "user_data = pd.DataFrame({'has_health_condition': [has_health_condition]})\n",
        "\n",
        "# Make prediction\n",
        "prediction = lr_model.predict_proba(user_data)[:, 1][0] # Probability of being affected by COVID-19\n",
        "\n",
        "# Print result\n",
        "print('\\nBased on your underlying health conditions, there is a', round(prediction * 100, 2), '% chance that you are susceptible to COVID-19.')\n"
      ],
      "metadata": {
        "colab": {
          "base_uri": "https://localhost:8080/"
        },
        "id": "_fo0sEZGbRhW",
        "outputId": "19f68f09-e32d-46ab-ac10-748140e612c7"
      },
      "execution_count": null,
      "outputs": [
        {
          "output_type": "stream",
          "name": "stderr",
          "text": [
            "<ipython-input-6-75a3626b2d62>:6: DtypeWarning: Columns (1,4,5,6,13,14,15,16) have mixed types. Specify dtype option on import or set low_memory=False.\n",
            "  covid_df = pd.read_csv('https://ai2-semanticscholar-cord-19.s3-us-west-2.amazonaws.com/latest/metadata.csv')\n"
          ]
        },
        {
          "output_type": "stream",
          "name": "stdout",
          "text": [
            "Please answer the following questions to determine your risk of COVID-19:\n",
            "\n",
            "Do you have cardiovascular disease? (y/n): y\n",
            "Do you have diabetes? (y/n): n\n",
            "Do you have chronic respiratory disease? (y/n): y\n",
            "Do you have cancer? (y/n): n\n",
            "\n",
            "Based on your underlying health conditions, there is a 90.69 % chance that you are susceptible to COVID-19.\n"
          ]
        }
      ]
    }
  ]
}